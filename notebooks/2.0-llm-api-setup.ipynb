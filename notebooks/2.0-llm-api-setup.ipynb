{
 "cells": [
  {
   "cell_type": "code",
   "execution_count": 26,
   "metadata": {},
   "outputs": [],
   "source": [
    "import os\n",
    "import dotenv\n",
    "from openai import OpenAI"
   ]
  },
  {
   "cell_type": "code",
   "execution_count": 27,
   "metadata": {},
   "outputs": [
    {
     "data": {
      "text/plain": [
       "True"
      ]
     },
     "execution_count": 27,
     "metadata": {},
     "output_type": "execute_result"
    }
   ],
   "source": [
    "dotenv.load_dotenv(\"./secrets.env\")"
   ]
  },
  {
   "cell_type": "code",
   "execution_count": 28,
   "metadata": {},
   "outputs": [],
   "source": [
    "client = OpenAI(\n",
    "    # This is the default and can be omitted\n",
    "    api_key=os.environ.get(\"OPENAI_API_KEY\"),\n",
    ")"
   ]
  },
  {
   "cell_type": "code",
   "execution_count": 39,
   "metadata": {},
   "outputs": [],
   "source": [
    "# BEST PROMPT SO FAR!!\n",
    "system_prompt = \"\"\"\n",
    "Respond in one concise sentence without disclaimers or examples. \n",
    "Format: User word title-case, (user word in Hindi), refers to … (provide a definition in 5-15 words). \n",
    "Always conclude with this exact phrase: \\'\\nClosest English equivalent: (closest english equivalent single word)\\'. \n",
    "Do not omit this phrase under any circumstances.\n",
    "If the word/phrase is not a Hindi word/phrase, respond with \\\"That's not a Hindi word/phrase!\\\" and then respond with \\\"That's a \\\", the detected language and the meaning and the Closest English equivalent as mentioned earlier.\n",
    "\"\"\""
   ]
  },
  {
   "cell_type": "code",
   "execution_count": 30,
   "metadata": {},
   "outputs": [
    {
     "name": "stdout",
     "output_type": "stream",
     "text": [
      "Aadyatmik (आध्यात्मिक), refers to the spiritual aspect of one's existence or consciousness. Closest English equivalent: spiritual."
     ]
    }
   ],
   "source": [
    "stream = client.chat.completions.create(\n",
    "    model=\"gpt-4o-mini-2024-07-18\",\n",
    "    messages=[\n",
    "        {\"role\": \"developer\", \"content\": system_prompt},\n",
    "        {\n",
    "            \"role\": \"user\",\n",
    "            \"content\": \"aadyatmik\",\n",
    "        },\n",
    "    ],\n",
    "    stream=True\n",
    ")\n",
    "\n",
    "for event in stream:\n",
    "    if event and event.choices[0].delta.content:\n",
    "        print(event.choices[0].delta.content, end='', flush=True)"
   ]
  },
  {
   "cell_type": "code",
   "execution_count": 40,
   "metadata": {},
   "outputs": [],
   "source": [
    "def ask(word):\n",
    "    stream = client.chat.completions.create(\n",
    "        model=\"gpt-4o-mini-2024-07-18\",\n",
    "        messages=[\n",
    "            {\"role\": \"developer\", \"content\": system_prompt},\n",
    "            {\n",
    "                \"role\": \"user\",\n",
    "                \"content\": word,\n",
    "            },\n",
    "        ],\n",
    "        stream=True\n",
    "    )\n",
    "\n",
    "    resp = ''\n",
    "    for event in stream:\n",
    "        if event and event.choices[0].delta.content:\n",
    "            resp += event.choices[0].delta.content\n",
    "            print(event.choices[0].delta.content, end='', flush=True)\n",
    "    return resp"
   ]
  },
  {
   "cell_type": "code",
   "execution_count": 41,
   "metadata": {},
   "outputs": [
    {
     "name": "stdout",
     "output_type": "stream",
     "text": [
      "Gyan (ज्ञान) refers to knowledge, wisdom, or understanding gained through experience or education. \n",
      "Closest English equivalent: knowledge."
     ]
    }
   ],
   "source": [
    "_ = ask(word=\"gyan\")"
   ]
  },
  {
   "cell_type": "code",
   "execution_count": 42,
   "metadata": {},
   "outputs": [
    {
     "name": "stdout",
     "output_type": "stream",
     "text": [
      "Manushya (मनुष्य), refers to a human being or a person belonging to the species Homo sapiens. \n",
      "Closest English equivalent: human."
     ]
    }
   ],
   "source": [
    "_ = ask(word=\"manushya\")"
   ]
  },
  {
   "cell_type": "code",
   "execution_count": 43,
   "metadata": {},
   "outputs": [
    {
     "name": "stdout",
     "output_type": "stream",
     "text": [
      "Namaste (नमस्ते), refers to a respectful greeting or acknowledgment of another. Closest English equivalent: greeting."
     ]
    }
   ],
   "source": [
    "_ = ask(word=\"namaste\")"
   ]
  },
  {
   "cell_type": "code",
   "execution_count": 44,
   "metadata": {},
   "outputs": [
    {
     "name": "stdout",
     "output_type": "stream",
     "text": [
      "Dhanyavad (धन्यवाद), refers to expressing gratitude or thanks. \n",
      "Closest English equivalent: thanks."
     ]
    }
   ],
   "source": [
    "_ = ask(word=\"dhanyavad\")"
   ]
  },
  {
   "cell_type": "code",
   "execution_count": 45,
   "metadata": {},
   "outputs": [
    {
     "name": "stdout",
     "output_type": "stream",
     "text": [
      "Sapna (सपना), refers to a dream or vision experienced during sleep. \n",
      "Closest English equivalent: dream."
     ]
    }
   ],
   "source": [
    "_ = ask(word=\"sapna\")"
   ]
  },
  {
   "cell_type": "code",
   "execution_count": 46,
   "metadata": {},
   "outputs": [
    {
     "name": "stdout",
     "output_type": "stream",
     "text": [
      "Bhumi (भूमि), refers to the earth or land in a geographical context. \n",
      "Closest English equivalent: land."
     ]
    }
   ],
   "source": [
    "_ = ask(word=\"bhumi\")"
   ]
  },
  {
   "cell_type": "code",
   "execution_count": 47,
   "metadata": {},
   "outputs": [
    {
     "name": "stdout",
     "output_type": "stream",
     "text": [
      "That's not a Hindi word/phrase! That's a French word meaning \"acknowledged a clever remark.\" Closest English equivalent: retort."
     ]
    }
   ],
   "source": [
    "_ = ask(word=\"touché\")"
   ]
  }
 ],
 "metadata": {
  "kernelspec": {
   "display_name": "llmDictPy312",
   "language": "python",
   "name": "python3"
  },
  "language_info": {
   "codemirror_mode": {
    "name": "ipython",
    "version": 3
   },
   "file_extension": ".py",
   "mimetype": "text/x-python",
   "name": "python",
   "nbconvert_exporter": "python",
   "pygments_lexer": "ipython3",
   "version": "3.12.8"
  }
 },
 "nbformat": 4,
 "nbformat_minor": 2
}
