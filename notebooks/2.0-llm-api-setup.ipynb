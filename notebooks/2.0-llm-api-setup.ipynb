{
 "cells": [
  {
   "cell_type": "code",
   "execution_count": null,
   "metadata": {},
   "outputs": [],
   "source": []
  },
  {
   "cell_type": "code",
   "execution_count": null,
   "metadata": {},
   "outputs": [],
   "source": [
    "def getLLamaresponse(input_text, no_words, blog_style):\n",
    "    llm = CTransformers(model='models/llama-2-7b-chat.ggmlv3.q2_K.bin',\n",
    "                        model_type='llama',\n",
    "                        config={'max_new_tokens':256,\n",
    "                                'temperature':0.01})\n",
    "    \n",
    "    ## Prompt Template\n",
    "    template = \"\"\"{input_text}\"\"\"\n",
    "    \n",
    "    prompt = PromptTemplate(input_variables=[\"blog_style\",\"input_text\",'no_words'],\n",
    "                            template=template)\n",
    "    \n",
    "    ## Generate the response from the LLama 2 model\n",
    "    response = llm(prompt.format(blog_style=blog_style, input_text=input_text, no_words=no_words))\n",
    "    return response"
   ]
  }
 ],
 "metadata": {
  "kernelspec": {
   "display_name": "llmDictPy312",
   "language": "python",
   "name": "python3"
  },
  "language_info": {
   "name": "python",
   "version": "3.12.8"
  }
 },
 "nbformat": 4,
 "nbformat_minor": 2
}
