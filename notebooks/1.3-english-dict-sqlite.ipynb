{
 "cells": [
  {
   "cell_type": "markdown",
   "metadata": {},
   "source": [
    "# Open-Source English Dictionary\n",
    "\n",
    "https://github.com/CloudBytes-Academy/English-Dictionary-Open-Source/"
   ]
  },
  {
   "cell_type": "code",
   "execution_count": 9,
   "metadata": {},
   "outputs": [],
   "source": [
    "import sqlite3 as SQL"
   ]
  },
  {
   "cell_type": "code",
   "execution_count": 10,
   "metadata": {},
   "outputs": [],
   "source": [
    "conn = SQL.connect(\"../data/english-dictionary-cloudbytes.db\")"
   ]
  },
  {
   "cell_type": "markdown",
   "metadata": {},
   "source": [
    "### Database Schema\n",
    "\n",
    "The table is named 'entries' and has the following schema\n",
    "\n",
    "```sqlite\n",
    "Column      Type             Schema\n",
    "------      --------------   -------------------------------\n",
    "word        varchar(25)      \"word\" varchar(25) NOT NULL\n",
    "wordtype    varchar(20)      \"wordtype\" varchar(20) NOT NULL  \n",
    "definition  text             \"definition\" text NOT NULL\n",
    "```"
   ]
  },
  {
   "cell_type": "code",
   "execution_count": 13,
   "metadata": {},
   "outputs": [
    {
     "name": "stdout",
     "output_type": "stream",
     "text": [
      "[('absurd', 'a.', 'Contrary to reason or propriety; obviously and fiatly\\n   opposed to manifest truth; inconsistent with the plain dictates of\\n   common sense; logically contradictory; nonsensical; ridiculous; as, an\\n   absurd person, an absurd opinion; an absurd dream.'), ('absurd', 'n.', 'An absurdity.')]\n"
     ]
    }
   ],
   "source": [
    "# Sample Usage\n",
    "db = conn.cursor()\n",
    "db.execute(\"SELECT * from entries where word='absurd'\")\n",
    "output = db.fetchall()\n",
    "print(output)\n",
    "db.close()"
   ]
  },
  {
   "cell_type": "code",
   "execution_count": 14,
   "metadata": {},
   "outputs": [
    {
     "name": "stdout",
     "output_type": "stream",
     "text": [
      "('absurd', 'a.', 'Contrary to reason or propriety; obviously and fiatly\\n   opposed to manifest truth; inconsistent with the plain dictates of\\n   common sense; logically contradictory; nonsensical; ridiculous; as, an\\n   absurd person, an absurd opinion; an absurd dream.')\n",
      "('absurd', 'n.', 'An absurdity.')\n"
     ]
    }
   ],
   "source": [
    "for o in output:\n",
    "    print(o)"
   ]
  }
 ],
 "metadata": {
  "kernelspec": {
   "display_name": "llmDictPy312",
   "language": "python",
   "name": "python3"
  },
  "language_info": {
   "codemirror_mode": {
    "name": "ipython",
    "version": 3
   },
   "file_extension": ".py",
   "mimetype": "text/x-python",
   "name": "python",
   "nbconvert_exporter": "python",
   "pygments_lexer": "ipython3",
   "version": "3.12.8"
  }
 },
 "nbformat": 4,
 "nbformat_minor": 2
}
