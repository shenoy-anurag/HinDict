{
 "cells": [
  {
   "cell_type": "markdown",
   "metadata": {},
   "source": [
    "# Open-Source English Dictionary\n",
    "\n",
    "https://github.com/CloudBytes-Academy/English-Dictionary-Open-Source/"
   ]
  },
  {
   "cell_type": "code",
   "execution_count": 65,
   "metadata": {},
   "outputs": [],
   "source": [
    "import sqlite3 as SQL"
   ]
  },
  {
   "cell_type": "code",
   "execution_count": 66,
   "metadata": {},
   "outputs": [],
   "source": [
    "conn = SQL.connect(\"../data/english-dictionary-cloudbytes.db\")"
   ]
  },
  {
   "cell_type": "markdown",
   "metadata": {},
   "source": [
    "### Database Schema\n",
    "\n",
    "The table is named 'entries' and has the following schema\n",
    "\n",
    "```sqlite\n",
    "Column      Type             Schema\n",
    "------      --------------   -------------------------------\n",
    "word        varchar(25)      \"word\" varchar(25) NOT NULL\n",
    "wordtype    varchar(20)      \"wordtype\" varchar(20) NOT NULL  \n",
    "definition  text             \"definition\" text NOT NULL\n",
    "```"
   ]
  },
  {
   "cell_type": "code",
   "execution_count": 67,
   "metadata": {},
   "outputs": [
    {
     "name": "stdout",
     "output_type": "stream",
     "text": [
      "[('absurd', 'a.', 'Contrary to reason or propriety; obviously and fiatly\\n   opposed to manifest truth; inconsistent with the plain dictates of\\n   common sense; logically contradictory; nonsensical; ridiculous; as, an\\n   absurd person, an absurd opinion; an absurd dream.'), ('absurd', 'n.', 'An absurdity.')]\n"
     ]
    }
   ],
   "source": [
    "# Sample Usage\n",
    "db = conn.cursor()\n",
    "db.execute(\"SELECT * from entries where word='absurd'\")\n",
    "output = db.fetchall()\n",
    "print(output)\n",
    "db.close()"
   ]
  },
  {
   "cell_type": "code",
   "execution_count": 68,
   "metadata": {},
   "outputs": [
    {
     "name": "stdout",
     "output_type": "stream",
     "text": [
      "('absurd', 'a.', 'Contrary to reason or propriety; obviously and fiatly\\n   opposed to manifest truth; inconsistent with the plain dictates of\\n   common sense; logically contradictory; nonsensical; ridiculous; as, an\\n   absurd person, an absurd opinion; an absurd dream.')\n",
      "('absurd', 'n.', 'An absurdity.')\n"
     ]
    }
   ],
   "source": [
    "for o in output:\n",
    "    print(o)"
   ]
  },
  {
   "cell_type": "code",
   "execution_count": 69,
   "metadata": {},
   "outputs": [],
   "source": [
    "def get_definition(word):\n",
    "    db = conn.cursor()\n",
    "    db.execute(\"SELECT * from entries where word='{}'\".format(word))\n",
    "    output = db.fetchall()\n",
    "    db.close()\n",
    "    for o in output:\n",
    "        print(o)"
   ]
  },
  {
   "cell_type": "code",
   "execution_count": 70,
   "metadata": {},
   "outputs": [
    {
     "name": "stdout",
     "output_type": "stream",
     "text": [
      "('above', 'prep.', 'In or to a higher place; higher than; on or over the\\n   upper surface; over; -- opposed to below or beneath.')\n",
      "('above', 'prep.', 'Figuratively, higher than; superior to in any respect;\\n   surpassing; beyond; higher in measure or degree than; as, things above\\n   comprehension; above mean actions; conduct above reproach.')\n",
      "('above', 'prep.', 'Surpassing in number or quantity; more than; as, above a\\n   hundred. (Passing into the adverbial sense. See Above, adv., 4.)')\n",
      "('above', 'adv.', 'In a higher place; overhead; into or from heaven; as, the\\n   clouds above.')\n",
      "('above', 'adv.', 'Earlier in order; higher in the same page; hence, in a\\n   foregoing page.')\n",
      "('above', 'adv.', 'Higher in rank or power; as, he appealed to the court\\n   above.')\n",
      "('above', 'adv.', 'More than; as, above five hundred were present.')\n",
      "('color', 'n.', 'A property depending on the relations of light to the eye,\\n   by which individual and specific differences in the hues and tints of\\n   objects are apprehended in vision; as, gay colors; sad colors, etc.')\n",
      "('color', 'n.', 'Any hue distinguished from white or black.')\n",
      "('color', 'n.', 'The hue or color characteristic of good health and spirits;\\n   ruddy complexion.')\n",
      "('color', 'n.', 'That which is used to give color; a paint; a pigment; as,\\n   oil colors or water colors.')\n",
      "('color', 'n.', 'That which covers or hides the real character of anything;\\n   semblance; excuse; disguise; appearance.')\n",
      "('color', 'n.', 'Shade or variety of character; kind; species.')\n",
      "('color', 'n.', 'A distinguishing badge, as a flag or similar symbol (usually\\n   in the plural); as, the colors or color of a ship or regiment; the\\n   colors of a race horse (that is, of the cap and jacket worn by the\\n   jockey).')\n",
      "('color', 'n.', 'An apparent right; as where the defendant in trespass gave\\n   to the plaintiff an appearance of title, by stating his title\\n   specially, thus removing the cause from the jury to the court.')\n",
      "('color', 'v. t.', 'To change or alter the hue or tint of, by dyeing,\\n   staining, painting, etc.; to dye; to tinge; to paint; to stain.')\n",
      "('color', 'v. t.', 'To change or alter, as if by dyeing or painting; to give\\n   a false appearance to; usually, to give a specious appearance to; to\\n   cause to appear attractive; to make plausible; to palliate or excuse;\\n   as, the facts were colored by his prejudices.')\n",
      "('color', 'v. t.', 'To hide.')\n",
      "('color', 'v. i.', 'To acquire color; to turn red, especially in the face; to\\n   blush.')\n"
     ]
    }
   ],
   "source": [
    "get_definition(\"above\")\n",
    "get_definition(\"color\")"
   ]
  },
  {
   "cell_type": "code",
   "execution_count": 71,
   "metadata": {},
   "outputs": [],
   "source": [
    "# full_definition = \"\"\n",
    "# for definition in output:\n",
    "    "
   ]
  },
  {
   "cell_type": "code",
   "execution_count": 72,
   "metadata": {},
   "outputs": [],
   "source": [
    "pos_text = \"\"\"\n",
    "adj \tadjective \tdescribes a following noun\n",
    "adj.der \taective derived \ta verb used as an adjective\n",
    "a.pl \tplural adjective \ta plural adjective that has no singular form\n",
    "adj.sg \tsingular adjective \ta singular adjective that has no plural form\n",
    "adv \tadverb \tdescribes a verb\n",
    "con \tconnector \tjoins clauses, phrases or sentences\n",
    "dem \tdemonstrative \tpoints to or shows which noun is talked about\n",
    "expres \texpression \tan expressive word that is a sentence by itself\n",
    "indef \tindefinite \tan unspecified noun\n",
    "loc \tlocation \tdescribes the location of an action in relation to preceding noun\n",
    "n \tnoun \ta person, animal, place, thing, or idea\n",
    "n.pl \tplural noun \ta plural noun that has no singular form\n",
    "n.pos \tpossessed noun \ta noun such as ool ‘your head’ that cannot be without possession\n",
    "n.sg \tsingular noun \ta singular noun that has no plural form\n",
    "num.car \tcardinal number \ttells how many of a noun there are\n",
    "num.ord \tordinal number \ttells the order of a noun in a list\n",
    "part \tparticle \tword or suffix that has a special use\n",
    "pos \tpossessive \ttakes the place of an owner and the noun owned\n",
    "prep \tpreposition \tintroduces a noun phrase that describes a previous action\n",
    "pron.dat \tdative pronoun \ttakes the place of a noun the action is done to or for\n",
    "pron.loc \tlocative pronoun \ttakes the place of the location of a noun\n",
    "pron.obj \tobject pronoun \ttakes the place of a noun object\n",
    "pron.obj.spec \tspecial object pronoun \ttakes the place of noun object in the result of a condition and other special sentences\n",
    "pron.pos.ali \talienable possessive pronoun \ttakes the place of a possessor noun possessing a detachable noun\n",
    "pron.pos.inali \tinalienable possessive pronoun \ttakes the place of a possessor noun possessing a body part or family name\n",
    "pron.prep \tprepositional pronoun \ttakes the place of a noun prepositional phrase\n",
    "pron.reason \treason pronoun \ttakes the place of a noun doing a reason verb\n",
    "pron.refx \treflexive pronoun \tused to emphasize a noun object, or used for the same noun receiving an action that does the action\n",
    "pron.s.aft \tsubject pronoun after verb \tshows the doer of the action; attached to the end of the verb\n",
    "pron.s.cond \tconditional subject pronoun \tshows the action is a condition\n",
    "pron.s.depd \tdependent subject pronoun \tshows the action is in a dependent clause\n",
    "pron.s.fut \tfuture subject pronoun \tshows the action is in the future\n",
    "pron.s.l \tlong subject pronoun \tused to emphasize a noun subject\n",
    "pron.s.s \tshort subject pronoun \ttakes the place of a noun subject\n",
    "quan \tquantity \tdescribes the amount of a noun\n",
    "ques \tquestion word \tasks a question\n",
    "ques.foc \tfocus question word \tasks a question with focus (where one word is more important than others)\n",
    "v.c \tcausative verb \tthe subject of the verb causes someone else to do the action\n",
    "v.adj \tverb adjective \tan adjective used as a verb\n",
    "v.i \tintranstive verb \ta verb that does not have an object\n",
    "v.t \ttransitive verb \ta verb that can have an object\n",
    "v.n \tverbal noun \ta verb used as a noun\n",
    "\"\"\""
   ]
  },
  {
   "cell_type": "code",
   "execution_count": 73,
   "metadata": {},
   "outputs": [
    {
     "name": "stdout",
     "output_type": "stream",
     "text": [
      "[[''], ['adj ', 'adjective ', 'describes a following noun'], ['adj.der ', 'aective derived ', 'a verb used as an adjective'], ['a.pl ', 'plural adjective ', 'a plural adjective that has no singular form'], ['adj.sg ', 'singular adjective ', 'a singular adjective that has no plural form']]\n"
     ]
    }
   ],
   "source": [
    "lines = pos_text.split(\"\\n\")\n",
    "parts = [l.split(\"\\t\") for l in lines]\n",
    "print(parts[:5])"
   ]
  },
  {
   "cell_type": "code",
   "execution_count": 74,
   "metadata": {},
   "outputs": [
    {
     "data": {
      "text/plain": [
       "{'adj.': {'full_form': 'adjective', 'meaning': 'describes a following noun'},\n",
       " 'adj. der.': {'full_form': 'aective derived',\n",
       "  'meaning': 'a verb used as an adjective'},\n",
       " 'a. pl.': {'full_form': 'plural adjective',\n",
       "  'meaning': 'a plural adjective that has no singular form'},\n",
       " 'adj. sg.': {'full_form': 'singular adjective',\n",
       "  'meaning': 'a singular adjective that has no plural form'},\n",
       " 'adv.': {'full_form': 'adverb', 'meaning': 'describes a verb'},\n",
       " 'con.': {'full_form': 'connector',\n",
       "  'meaning': 'joins clauses, phrases or sentences'},\n",
       " 'dem.': {'full_form': 'demonstrative',\n",
       "  'meaning': 'points to or shows which noun is talked about'},\n",
       " 'expres.': {'full_form': 'expression',\n",
       "  'meaning': 'an expressive word that is a sentence by itself'},\n",
       " 'indef.': {'full_form': 'indefinite', 'meaning': 'an unspecified noun'},\n",
       " 'loc.': {'full_form': 'location',\n",
       "  'meaning': 'describes the location of an action in relation to preceding noun'},\n",
       " 'n.': {'full_form': 'noun',\n",
       "  'meaning': 'a person, animal, place, thing, or idea'},\n",
       " 'n. pl.': {'full_form': 'plural noun',\n",
       "  'meaning': 'a plural noun that has no singular form'},\n",
       " 'n. pos.': {'full_form': 'possessed noun',\n",
       "  'meaning': 'a noun such as ool ‘your head’ that cannot be without possession'},\n",
       " 'n. sg.': {'full_form': 'singular noun',\n",
       "  'meaning': 'a singular noun that has no plural form'},\n",
       " 'num. car.': {'full_form': 'cardinal number',\n",
       "  'meaning': 'tells how many of a noun there are'},\n",
       " 'num. ord.': {'full_form': 'ordinal number',\n",
       "  'meaning': 'tells the order of a noun in a list'},\n",
       " 'part.': {'full_form': 'particle',\n",
       "  'meaning': 'word or suffix that has a special use'},\n",
       " 'pos.': {'full_form': 'possessive',\n",
       "  'meaning': 'takes the place of an owner and the noun owned'},\n",
       " 'prep.': {'full_form': 'preposition',\n",
       "  'meaning': 'introduces a noun phrase that describes a previous action'},\n",
       " 'pron. dat.': {'full_form': 'dative pronoun',\n",
       "  'meaning': 'takes the place of a noun the action is done to or for'},\n",
       " 'pron. loc.': {'full_form': 'locative pronoun',\n",
       "  'meaning': 'takes the place of the location of a noun'},\n",
       " 'pron. obj.': {'full_form': 'object pronoun',\n",
       "  'meaning': 'takes the place of a noun object'},\n",
       " 'pron. obj. spec.': {'full_form': 'special object pronoun',\n",
       "  'meaning': 'takes the place of noun object in the result of a condition and other special sentences'},\n",
       " 'pron. pos. ali.': {'full_form': 'alienable possessive pronoun',\n",
       "  'meaning': 'takes the place of a possessor noun possessing a detachable noun'},\n",
       " 'pron. pos. inali.': {'full_form': 'inalienable possessive pronoun',\n",
       "  'meaning': 'takes the place of a possessor noun possessing a body part or family name'},\n",
       " 'pron. prep.': {'full_form': 'prepositional pronoun',\n",
       "  'meaning': 'takes the place of a noun prepositional phrase'},\n",
       " 'pron. reason.': {'full_form': 'reason pronoun',\n",
       "  'meaning': 'takes the place of a noun doing a reason verb'},\n",
       " 'pron. refx.': {'full_form': 'reflexive pronoun',\n",
       "  'meaning': 'used to emphasize a noun object, or used for the same noun receiving an action that does the action'},\n",
       " 'pron. s. aft.': {'full_form': 'subject pronoun after verb',\n",
       "  'meaning': 'shows the doer of the action; attached to the end of the verb'},\n",
       " 'pron. s. cond.': {'full_form': 'conditional subject pronoun',\n",
       "  'meaning': 'shows the action is a condition'},\n",
       " 'pron. s. depd.': {'full_form': 'dependent subject pronoun',\n",
       "  'meaning': 'shows the action is in a dependent clause'},\n",
       " 'pron. s. fut.': {'full_form': 'future subject pronoun',\n",
       "  'meaning': 'shows the action is in the future'},\n",
       " 'pron. s. l.': {'full_form': 'long subject pronoun',\n",
       "  'meaning': 'used to emphasize a noun subject'},\n",
       " 'pron. s. s.': {'full_form': 'short subject pronoun',\n",
       "  'meaning': 'takes the place of a noun subject'},\n",
       " 'quan.': {'full_form': 'quantity',\n",
       "  'meaning': 'describes the amount of a noun'},\n",
       " 'ques.': {'full_form': 'question word', 'meaning': 'asks a question'},\n",
       " 'ques. foc.': {'full_form': 'focus question word',\n",
       "  'meaning': 'asks a question with focus (where one word is more important than others)'},\n",
       " 'v. c.': {'full_form': 'causative verb',\n",
       "  'meaning': 'the subject of the verb causes someone else to do the action'},\n",
       " 'v. adj.': {'full_form': 'verb adjective',\n",
       "  'meaning': 'an adjective used as a verb'},\n",
       " 'v. i.': {'full_form': 'intranstive verb',\n",
       "  'meaning': 'a verb that does not have an object'},\n",
       " 'v. t.': {'full_form': 'transitive verb',\n",
       "  'meaning': 'a verb that can have an object'},\n",
       " 'v. n.': {'full_form': 'verbal noun', 'meaning': 'a verb used as a noun'}}"
      ]
     },
     "execution_count": 74,
     "metadata": {},
     "output_type": "execute_result"
    }
   ],
   "source": [
    "pos_mapping = {}\n",
    "\n",
    "def get_pos_mapping(pos_text):\n",
    "    lines = pos_text.split(\"\\n\")\n",
    "    parts = [l.split(\"\\t\") for l in lines if l]\n",
    "    \n",
    "    mapping = {}\n",
    "    for p in parts:\n",
    "        abrev = p[0].strip().replace('.', '. ')\n",
    "        if abrev[-1] != '.':\n",
    "            abrev += '.'\n",
    "        mapping[abrev] = {'full_form': p[1].strip(), 'meaning': p[2].strip()}\n",
    "    return mapping\n",
    "\n",
    "pos_mapping = get_pos_mapping(pos_text=pos_text)\n",
    "pos_mapping"
   ]
  },
  {
   "cell_type": "code",
   "execution_count": 75,
   "metadata": {},
   "outputs": [],
   "source": [
    "pos_mapping = {\n",
    "    'a.': {'full_form': 'adjective', 'meaning': 'describes a following noun'},\n",
    "    'a. der.': {'full_form': 'adjective derived',\n",
    "                  'meaning': 'a verb used as an adjective'},\n",
    "    'a. pl.': {'full_form': 'plural adjective',\n",
    "                 'meaning': 'a plural adjective that has no singular form'},\n",
    "    'a. sg.': {'full_form': 'singular adjective',\n",
    "                 'meaning': 'a singular adjective that has no plural form'},\n",
    "    'adv.': {'full_form': 'adverb', 'meaning': 'describes a verb'},\n",
    "    'con.': {'full_form': 'connector',\n",
    "             'meaning': 'joins clauses, phrases or sentences'},\n",
    "    'dem.': {'full_form': 'demonstrative',\n",
    "             'meaning': 'points to or shows which noun is talked about'},\n",
    "    'expres.': {'full_form': 'expression',\n",
    "                'meaning': 'an expressive word that is a sentence by itself'},\n",
    "    'indef.': {'full_form': 'indefinite', 'meaning': 'an unspecified noun'},\n",
    "    'loc.': {'full_form': 'location',\n",
    "             'meaning': 'describes the location of an action in relation to preceding noun'},\n",
    "    'n.': {'full_form': 'noun',\n",
    "           'meaning': 'a person, animal, place, thing, or idea'},\n",
    "    'n. pl.': {'full_form': 'plural noun',\n",
    "               'meaning': 'a plural noun that has no singular form'},\n",
    "    'n. pos.': {'full_form': 'possessed noun',\n",
    "                'meaning': 'a noun such as ool ‘your head’ that cannot be without possession'},\n",
    "    'n. sg.': {'full_form': 'singular noun',\n",
    "               'meaning': 'a singular noun that has no plural form'},\n",
    "    'num. car.': {'full_form': 'cardinal number',\n",
    "                  'meaning': 'tells how many of a noun there are'},\n",
    "    'num. ord.': {'full_form': 'ordinal number',\n",
    "                  'meaning': 'tells the order of a noun in a list'},\n",
    "    'part.': {'full_form': 'particle',\n",
    "              'meaning': 'word or suffix that has a special use'},\n",
    "    'pos.': {'full_form': 'possessive',\n",
    "             'meaning': 'takes the place of an owner and the noun owned'},\n",
    "    'prep.': {'full_form': 'preposition',\n",
    "              'meaning': 'introduces a noun phrase that describes a previous action'},\n",
    "    'pron. dat.': {'full_form': 'dative pronoun',\n",
    "                   'meaning': 'takes the place of a noun the action is done to or for'},\n",
    "    'pron. loc.': {'full_form': 'locative pronoun',\n",
    "                   'meaning': 'takes the place of the location of a noun'},\n",
    "    'pron. obj.': {'full_form': 'object pronoun',\n",
    "                   'meaning': 'takes the place of a noun object'},\n",
    "    'pron. obj. spec.': {'full_form': 'special object pronoun',\n",
    "                         'meaning': 'takes the place of noun object in the result of a condition and other special sentences'},\n",
    "    'pron. pos. ali.': {'full_form': 'alienable possessive pronoun',\n",
    "                        'meaning': 'takes the place of a possessor noun possessing a detachable noun'},\n",
    "    'pron. pos. inali.': {'full_form': 'inalienable possessive pronoun',\n",
    "                          'meaning': 'takes the place of a possessor noun possessing a body part or family name'},\n",
    "    'pron. prep.': {'full_form': 'prepositional pronoun',\n",
    "                    'meaning': 'takes the place of a noun prepositional phrase'},\n",
    "    'pron. reason.': {'full_form': 'reason pronoun',\n",
    "                      'meaning': 'takes the place of a noun doing a reason verb'},\n",
    "    'pron. refx.': {'full_form': 'reflexive pronoun',\n",
    "                    'meaning': 'used to emphasize a noun object, or used for the same noun receiving an action that does the action'},\n",
    "    'pron. s. aft.': {'full_form': 'subject pronoun after verb',\n",
    "                      'meaning': 'shows the doer of the action; attached to the end of the verb'},\n",
    "    'pron. s. cond.': {'full_form': 'conditional subject pronoun',\n",
    "                       'meaning': 'shows the action is a condition'},\n",
    "    'pron. s. depd.': {'full_form': 'dependent subject pronoun',\n",
    "                       'meaning': 'shows the action is in a dependent clause'},\n",
    "    'pron. s. fut.': {'full_form': 'future subject pronoun',\n",
    "                      'meaning': 'shows the action is in the future'},\n",
    "    'pron. s. l.': {'full_form': 'long subject pronoun',\n",
    "                    'meaning': 'used to emphasize a noun subject'},\n",
    "    'pron. s. s.': {'full_form': 'short subject pronoun',\n",
    "                    'meaning': 'takes the place of a noun subject'},\n",
    "    'quan.': {'full_form': 'quantity',\n",
    "              'meaning': 'describes the amount of a noun'},\n",
    "    'ques.': {'full_form': 'question word', 'meaning': 'asks a question'},\n",
    "    'ques. foc.': {'full_form': 'focus question word',\n",
    "                   'meaning': 'asks a question with focus (where one word is more important than others)'},\n",
    "    'v. c.': {'full_form': 'causative verb',\n",
    "              'meaning': 'the subject of the verb causes someone else to do the action'},\n",
    "    'v. adj.': {'full_form': 'verb adjective',\n",
    "                'meaning': 'an adjective used as a verb'},\n",
    "    'v. i.': {'full_form': 'intranstive verb',\n",
    "              'meaning': 'a verb that does not have an object'},\n",
    "    'v. t.': {'full_form': 'transitive verb',\n",
    "              'meaning': 'a verb that can have an object'},\n",
    "    'v. n.': {'full_form': 'verbal noun', 'meaning': 'a verb used as a noun'}\n",
    "}"
   ]
  },
  {
   "cell_type": "code",
   "execution_count": 90,
   "metadata": {},
   "outputs": [],
   "source": [
    "def get_definition2(word):\n",
    "    db = conn.cursor()\n",
    "    db.execute(\"SELECT * from entries where word='{}'\".format(word))\n",
    "    output = db.fetchall()\n",
    "    db.close()\n",
    "    return [word, [pos_mapping[o[1]]['full_form'] + \". \" + o[2] for o in output]]\n",
    "    # return [word, [pos_mapping[o[1]]['full_form'] + \". \" + o[2] for o in output if pos_mapping.get(o[1])]]"
   ]
  },
  {
   "cell_type": "code",
   "execution_count": 92,
   "metadata": {},
   "outputs": [
    {
     "name": "stdout",
     "output_type": "stream",
     "text": [
      "['color', ['noun. A property depending on the relations of light to the eye,\\n   by which individual and specific differences in the hues and tints of\\n   objects are apprehended in vision; as, gay colors; sad colors, etc.', 'noun. Any hue distinguished from white or black.', 'noun. The hue or color characteristic of good health and spirits;\\n   ruddy complexion.', 'noun. That which is used to give color; a paint; a pigment; as,\\n   oil colors or water colors.', 'noun. That which covers or hides the real character of anything;\\n   semblance; excuse; disguise; appearance.', 'noun. Shade or variety of character; kind; species.', 'noun. A distinguishing badge, as a flag or similar symbol (usually\\n   in the plural); as, the colors or color of a ship or regiment; the\\n   colors of a race horse (that is, of the cap and jacket worn by the\\n   jockey).', 'noun. An apparent right; as where the defendant in trespass gave\\n   to the plaintiff an appearance of title, by stating his title\\n   specially, thus removing the cause from the jury to the court.', 'transitive verb. To change or alter the hue or tint of, by dyeing,\\n   staining, painting, etc.; to dye; to tinge; to paint; to stain.', 'transitive verb. To change or alter, as if by dyeing or painting; to give\\n   a false appearance to; usually, to give a specious appearance to; to\\n   cause to appear attractive; to make plausible; to palliate or excuse;\\n   as, the facts were colored by his prejudices.', 'transitive verb. To hide.', 'intranstive verb. To acquire color; to turn red, especially in the face; to\\n   blush.']]\n",
      "['abate', ['transitive verb. To beat down; to overthrow.', 'transitive verb. To bring down or reduce from a higher to a lower state,\\n   number, or degree; to lessen; to diminish; to contract; to moderate; to\\n   cut short; as, to abate a demand; to abate pride, zeal, hope.', 'transitive verb. To deduct; to omit; as, to abate something from a price.', 'transitive verb. To blunt.', 'transitive verb. To reduce in estimation; to deprive.', 'transitive verb. To bring entirely down or put an end to; to do away with;\\n   as, to abate a nuisance, to abate a writ.', 'transitive verb. To diminish; to reduce. Legacies are liable to be abated\\n   entirely or in proportion, upon a deficiency of assets.', 'transitive verb. To decrease, or become less in strength or violence; as,\\n   pain abates, a storm abates.', 'transitive verb. To be defeated, or come to naught; to fall through; to\\n   fail; as, a writ abates.', 'noun. Abatement.']]\n",
      "['maniacal', ['adjective. Affected with, or characterized by, madness; maniac.']]\n",
      "['love', ['noun. A feeling of strong attachment induced by that which delights\\n   or commands admiration; preeminent kindness or devotion to another;\\n   affection; tenderness; as, the love of brothers and sisters.', 'noun. Especially, devoted attachment to, or tender or passionate\\n   affection for, one of the opposite sex.', 'noun. Courtship; -- chiefly in the phrase to make love, i. e., to\\n   court, to woo, to solicit union in marriage.', 'noun. Affection; kind feeling; friendship; strong liking or desire;\\n   fondness; good will; -- opposed to hate; often with of and an object.', 'noun. Due gratitude and reverence to God.', 'noun. The object of affection; -- often employed in endearing\\n   address.', 'noun. Cupid, the god of love; sometimes, Venus.', 'noun. A thin silk stuff.', 'noun. A climbing species of Clematis (C. Vitalba).', 'noun. Nothing; no points scored on one side; -- used in counting\\n   score at tennis, etc.', \"noun. To have a feeling of love for; to regard with affection or\\n   good will; as, to love one's children and friends; to love one's\\n   country; to love one's God.\", 'noun. To regard with passionate and devoted affection, as that of\\n   one sex for the other.', 'noun. To take delight or pleasure in; to have a strong liking or\\n   desire for, or interest in; to be pleased with; to like; as, to love\\n   books; to love adventures.', 'intranstive verb. To have the feeling of love; to be in love.']]\n",
      "['king', ['noun. A Chinese musical instrument, consisting of resonant stones\\n   or metal plates, arranged according to their tones in a frame of wood,\\n   and struck with a hammer.', 'noun. A chief ruler; a sovereign; one invested with supreme\\n   authority over a nation, country, or tribe, usually by hereditary\\n   succession; a monarch; a prince.', 'noun. One who, or that which, holds a supreme position or rank; a\\n   chief among competitors; as, a railroad king; a money king; the king of\\n   the lobby; the king of beasts.', 'noun. A playing card having the picture of a king; as, the king of\\n   diamonds.', 'noun. The chief piece in the game of chess.', 'noun. A crowned man in the game of draughts.', 'noun. The title of two historical books in the Old Testament.', 'intranstive verb. To supply with a king; to make a king of; to raise to\\n   royalty.']]\n"
     ]
    }
   ],
   "source": [
    "print(get_definition2(\"color\"))\n",
    "print(get_definition2(\"abate\"))\n",
    "print(get_definition2(\"maniacal\"))\n",
    "print(get_definition2(\"love\"))\n",
    "print(get_definition2(\"king\"))\n",
    "# print(get_definition(\"run\"))\n",
    "# print(get_definition2(\"run\"))\n",
    "# print(get_definition2(\"he\"))"
   ]
  }
 ],
 "metadata": {
  "kernelspec": {
   "display_name": "llmDictPy312",
   "language": "python",
   "name": "python3"
  },
  "language_info": {
   "codemirror_mode": {
    "name": "ipython",
    "version": 3
   },
   "file_extension": ".py",
   "mimetype": "text/x-python",
   "name": "python",
   "nbconvert_exporter": "python",
   "pygments_lexer": "ipython3",
   "version": "3.12.8"
  }
 },
 "nbformat": 4,
 "nbformat_minor": 2
}
