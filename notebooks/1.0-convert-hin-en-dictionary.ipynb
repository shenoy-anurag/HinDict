{
 "cells": [
  {
   "cell_type": "code",
   "execution_count": 26,
   "metadata": {},
   "outputs": [],
   "source": [
    "import sys\n",
    "from pyglossary.glossary_v2 import ConvertArgs, Glossary"
   ]
  },
  {
   "cell_type": "code",
   "execution_count": 27,
   "metadata": {},
   "outputs": [],
   "source": [
    "# Glossary.init() should be called only once, so make sure you put it\n",
    "# in the right place\n",
    "Glossary.init()"
   ]
  },
  {
   "cell_type": "code",
   "execution_count": 28,
   "metadata": {},
   "outputs": [
    {
     "data": {
      "text/plain": [
       "'/Users/anurags/Projects/PersonalProjects/hindi-english-dictionary/data/eng-hin/eng-hin-tabfile.txt'"
      ]
     },
     "execution_count": 28,
     "metadata": {},
     "output_type": "execute_result"
    }
   ],
   "source": [
    "glos = Glossary()\n",
    "\n",
    "convertArgs = ConvertArgs(\n",
    "    inputFilename=\"../data/eng-hin/eng-hin.index\",\n",
    "\toutputFilename=\"../data/eng-hin/eng-hin-tabfile.txt\",\n",
    "\t# although it can detect format for *.txt, you can still pass outputFormat\n",
    "\toutputFormat=\"Tabfile\",\n",
    "\t# you can pass readOptions or writeOptions as a dict\n",
    "\t# writeOptions={\"encoding\": \"utf-8\"},\n",
    ")\n",
    "\n",
    "glos.convert(convertArgs)"
   ]
  }
 ],
 "metadata": {
  "kernelspec": {
   "display_name": "py312",
   "language": "python",
   "name": "python3"
  },
  "language_info": {
   "codemirror_mode": {
    "name": "ipython",
    "version": 3
   },
   "file_extension": ".py",
   "mimetype": "text/x-python",
   "name": "python",
   "nbconvert_exporter": "python",
   "pygments_lexer": "ipython3",
   "version": "3.12.8"
  }
 },
 "nbformat": 4,
 "nbformat_minor": 2
}
