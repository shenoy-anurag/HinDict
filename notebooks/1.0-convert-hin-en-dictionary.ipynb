{
 "cells": [
  {
   "cell_type": "code",
   "execution_count": 1,
   "metadata": {},
   "outputs": [],
   "source": [
    "import sys\n",
    "from pyglossary.glossary_v2 import ConvertArgs, Glossary"
   ]
  },
  {
   "cell_type": "code",
   "execution_count": 2,
   "metadata": {},
   "outputs": [],
   "source": [
    "# Glossary.init() should be called only once, so make sure you put it\n",
    "# in the right place\n",
    "Glossary.init()"
   ]
  },
  {
   "cell_type": "code",
   "execution_count": 3,
   "metadata": {},
   "outputs": [
    {
     "data": {
      "text/plain": [
       "'/Users/anurags/Projects/PersonalProjects/hindi-english-dictionary/data/eng-hin/eng-hin-tabfile.txt'"
      ]
     },
     "execution_count": 3,
     "metadata": {},
     "output_type": "execute_result"
    }
   ],
   "source": [
    "glos = Glossary()\n",
    "\n",
    "convertArgs = ConvertArgs(\n",
    "    inputFilename=\"../data/eng-hin/eng-hin.index\",\n",
    "\toutputFilename=\"../data/eng-hin/eng-hin-tabfile.txt\",\n",
    "\t# although it can detect format for *.txt, you can still pass outputFormat\n",
    "\toutputFormat=\"Tabfile\",\n",
    "\t# you can pass readOptions or writeOptions as a dict\n",
    "\t# writeOptions={\"encoding\": \"utf-8\"},\n",
    ")\n",
    "\n",
    "glos.convert(convertArgs)"
   ]
  },
  {
   "cell_type": "code",
   "execution_count": 4,
   "metadata": {},
   "outputs": [
    {
     "data": {
      "text/plain": [
       "'/Users/anurags/Projects/PersonalProjects/hindi-english-dictionary/data/eng-hin/eng-hin.json'"
      ]
     },
     "execution_count": 4,
     "metadata": {},
     "output_type": "execute_result"
    }
   ],
   "source": [
    "glos = Glossary()\n",
    "\n",
    "convertArgs = ConvertArgs(\n",
    "    inputFilename=\"../data/eng-hin/eng-hin.index\",\n",
    "\toutputFilename=\"../data/eng-hin/eng-hin.json\",\n",
    "\t# although it can detect format for *.txt, you can still pass outputFormat\n",
    "\toutputFormat=\"Json\",\n",
    "\t# you can pass readOptions or writeOptions as a dict\n",
    "\t# writeOptions={\"encoding\": \"utf-8\"},\n",
    ")\n",
    "\n",
    "glos.convert(convertArgs)"
   ]
  },
  {
   "cell_type": "code",
   "execution_count": 7,
   "metadata": {},
   "outputs": [
    {
     "name": "stderr",
     "output_type": "stream",
     "text": [
      "invalid header: b'\\n#book'\n"
     ]
    },
    {
     "ename": "OSError",
     "evalue": "BGL: failed to read gzip header",
     "output_type": "error",
     "traceback": [
      "\u001b[0;31m---------------------------------------------------------------------------\u001b[0m",
      "\u001b[0;31mOSError\u001b[0m                                   Traceback (most recent call last)",
      "Cell \u001b[0;32mIn[7], line 13\u001b[0m\n\u001b[1;32m      1\u001b[0m glos \u001b[38;5;241m=\u001b[39m Glossary()\n\u001b[1;32m      3\u001b[0m convertArgs \u001b[38;5;241m=\u001b[39m ConvertArgs(\n\u001b[1;32m      4\u001b[0m     inputFilename\u001b[38;5;241m=\u001b[39m\u001b[38;5;124m\"\u001b[39m\u001b[38;5;124m../data/tulasi_shabda_kosha.babylon\u001b[39m\u001b[38;5;124m\"\u001b[39m,\n\u001b[1;32m      5\u001b[0m     outputFilename\u001b[38;5;241m=\u001b[39m\u001b[38;5;124m\"\u001b[39m\u001b[38;5;124m../data/tulasi_shabda_kosha.json\u001b[39m\u001b[38;5;124m\"\u001b[39m,\n\u001b[0;32m   (...)\u001b[0m\n\u001b[1;32m     10\u001b[0m     \u001b[38;5;66;03m# writeOptions={\"encoding\": \"utf-8\"},\u001b[39;00m\n\u001b[1;32m     11\u001b[0m )\n\u001b[0;32m---> 13\u001b[0m \u001b[43mglos\u001b[49m\u001b[38;5;241;43m.\u001b[39;49m\u001b[43mconvert\u001b[49m\u001b[43m(\u001b[49m\u001b[43mconvertArgs\u001b[49m\u001b[43m)\u001b[49m\n",
      "File \u001b[0;32m~/miniforge3/envs/py312/lib/python3.12/site-packages/pyglossary/glossary_v2.py:1248\u001b[0m, in \u001b[0;36mGlossary.convert\u001b[0;34m(self, args)\u001b[0m\n\u001b[1;32m   1247\u001b[0m \u001b[38;5;28;01mdef\u001b[39;00m\u001b[38;5;250m \u001b[39m\u001b[38;5;21mconvert\u001b[39m(\u001b[38;5;28mself\u001b[39m, args: ConvertArgs) \u001b[38;5;241m-\u001b[39m\u001b[38;5;241m>\u001b[39m \u001b[38;5;28mstr\u001b[39m \u001b[38;5;241m|\u001b[39m \u001b[38;5;28;01mNone\u001b[39;00m:\n\u001b[0;32m-> 1248\u001b[0m \t\u001b[38;5;28;01mreturn\u001b[39;00m \u001b[38;5;28;43mself\u001b[39;49m\u001b[38;5;241;43m.\u001b[39;49m\u001b[43mconvertV2\u001b[49m\u001b[43m(\u001b[49m\u001b[43margs\u001b[49m\u001b[43m)\u001b[49m\n",
      "File \u001b[0;32m~/miniforge3/envs/py312/lib/python3.12/site-packages/pyglossary/glossary_v2.py:1197\u001b[0m, in \u001b[0;36mGlossaryCommon.convertV2\u001b[0;34m(self, args)\u001b[0m\n\u001b[1;32m   1189\u001b[0m tm0 \u001b[38;5;241m=\u001b[39m now()\n\u001b[1;32m   1191\u001b[0m outputFilename, outputFormat, compression \u001b[38;5;241m=\u001b[39m PluginManager\u001b[38;5;241m.\u001b[39mdetectOutputFormat(\n\u001b[1;32m   1192\u001b[0m \tfilename\u001b[38;5;241m=\u001b[39margs\u001b[38;5;241m.\u001b[39moutputFilename,\n\u001b[1;32m   1193\u001b[0m \tformatName\u001b[38;5;241m=\u001b[39margs\u001b[38;5;241m.\u001b[39moutputFormat,\n\u001b[1;32m   1194\u001b[0m \tinputFilename\u001b[38;5;241m=\u001b[39margs\u001b[38;5;241m.\u001b[39minputFilename,\n\u001b[1;32m   1195\u001b[0m )\n\u001b[0;32m-> 1197\u001b[0m sort \u001b[38;5;241m=\u001b[39m \u001b[38;5;28;43mself\u001b[39;49m\u001b[38;5;241;43m.\u001b[39;49m\u001b[43m_convertPrepare\u001b[49m\u001b[43m(\u001b[49m\n\u001b[1;32m   1198\u001b[0m \u001b[43m\t\u001b[49m\u001b[43margs\u001b[49m\u001b[38;5;241;43m=\u001b[39;49m\u001b[43margs\u001b[49m\u001b[43m,\u001b[49m\n\u001b[1;32m   1199\u001b[0m \u001b[43m\t\u001b[49m\u001b[43moutputFilename\u001b[49m\u001b[38;5;241;43m=\u001b[39;49m\u001b[43moutputFilename\u001b[49m\u001b[43m,\u001b[49m\n\u001b[1;32m   1200\u001b[0m \u001b[43m\t\u001b[49m\u001b[43moutputFormat\u001b[49m\u001b[38;5;241;43m=\u001b[39;49m\u001b[43moutputFormat\u001b[49m\u001b[43m,\u001b[49m\n\u001b[1;32m   1201\u001b[0m \u001b[43m\u001b[49m\u001b[43m)\u001b[49m\n\u001b[1;32m   1203\u001b[0m \u001b[38;5;28;01mif\u001b[39;00m args\u001b[38;5;241m.\u001b[39minfoOverride:\n\u001b[1;32m   1204\u001b[0m \t\u001b[38;5;28;01mfor\u001b[39;00m key, value \u001b[38;5;129;01min\u001b[39;00m args\u001b[38;5;241m.\u001b[39minfoOverride\u001b[38;5;241m.\u001b[39mitems():\n",
      "File \u001b[0;32m~/miniforge3/envs/py312/lib/python3.12/site-packages/pyglossary/glossary_v2.py:1160\u001b[0m, in \u001b[0;36mGlossaryCommon._convertPrepare\u001b[0;34m(self, args, outputFilename, outputFormat)\u001b[0m\n\u001b[1;32m   1156\u001b[0m showMemoryUsage()\n\u001b[1;32m   1158\u001b[0m readOptions \u001b[38;5;241m=\u001b[39m args\u001b[38;5;241m.\u001b[39mreadOptions \u001b[38;5;129;01mor\u001b[39;00m {}\n\u001b[0;32m-> 1160\u001b[0m \u001b[38;5;28;43mself\u001b[39;49m\u001b[38;5;241;43m.\u001b[39;49m\u001b[43m_read\u001b[49m\u001b[43m(\u001b[49m\n\u001b[1;32m   1161\u001b[0m \u001b[43m\t\u001b[49m\u001b[43margs\u001b[49m\u001b[38;5;241;43m.\u001b[39;49m\u001b[43minputFilename\u001b[49m\u001b[43m,\u001b[49m\n\u001b[1;32m   1162\u001b[0m \u001b[43m\t\u001b[49m\u001b[43mformatName\u001b[49m\u001b[38;5;241;43m=\u001b[39;49m\u001b[43margs\u001b[49m\u001b[38;5;241;43m.\u001b[39;49m\u001b[43minputFormat\u001b[49m\u001b[43m,\u001b[49m\n\u001b[1;32m   1163\u001b[0m \u001b[43m\t\u001b[49m\u001b[43mdirect\u001b[49m\u001b[38;5;241;43m=\u001b[39;49m\u001b[43mdirect\u001b[49m\u001b[43m,\u001b[49m\n\u001b[1;32m   1164\u001b[0m \u001b[43m\t\u001b[49m\u001b[38;5;241;43m*\u001b[39;49m\u001b[38;5;241;43m*\u001b[39;49m\u001b[43mreadOptions\u001b[49m\u001b[43m,\u001b[49m\n\u001b[1;32m   1165\u001b[0m \u001b[43m\u001b[49m\u001b[43m)\u001b[49m\n\u001b[1;32m   1167\u001b[0m \u001b[38;5;28mself\u001b[39m\u001b[38;5;241m.\u001b[39mdetectLangsFromName()\n\u001b[1;32m   1169\u001b[0m \u001b[38;5;28;01mreturn\u001b[39;00m sort\n",
      "File \u001b[0;32m~/miniforge3/envs/py312/lib/python3.12/site-packages/pyglossary/glossary_v2.py:776\u001b[0m, in \u001b[0;36mGlossaryCommon._read\u001b[0;34m(***failed resolving arguments***)\u001b[0m\n\u001b[1;32m    773\u001b[0m \t\u001b[38;5;28mself\u001b[39m\u001b[38;5;241m.\u001b[39mupdateEntryFilters()\n\u001b[1;32m    775\u001b[0m reader \u001b[38;5;241m=\u001b[39m \u001b[38;5;28mself\u001b[39m\u001b[38;5;241m.\u001b[39m_createReader(formatName, options)\n\u001b[0;32m--> 776\u001b[0m \u001b[38;5;28;43mself\u001b[39;49m\u001b[38;5;241;43m.\u001b[39;49m\u001b[43m_openReader\u001b[49m\u001b[43m(\u001b[49m\u001b[43mreader\u001b[49m\u001b[43m,\u001b[49m\u001b[43m \u001b[49m\u001b[43mfilenameUC\u001b[49m\u001b[43m)\u001b[49m\n\u001b[1;32m    778\u001b[0m \u001b[38;5;28mself\u001b[39m\u001b[38;5;241m.\u001b[39m_readOptions \u001b[38;5;241m=\u001b[39m options\n\u001b[1;32m    780\u001b[0m \u001b[38;5;28mself\u001b[39m\u001b[38;5;241m.\u001b[39mprepareEntryFilters()\n",
      "File \u001b[0;32m~/miniforge3/envs/py312/lib/python3.12/site-packages/pyglossary/glossary_v2.py:696\u001b[0m, in \u001b[0;36mGlossaryCommon._openReader\u001b[0;34m(self, reader, filename)\u001b[0m\n\u001b[1;32m    694\u001b[0m progressbar: \u001b[38;5;28mbool\u001b[39m \u001b[38;5;241m=\u001b[39m \u001b[38;5;28mself\u001b[39m\u001b[38;5;241m.\u001b[39mprogressbar\n\u001b[1;32m    695\u001b[0m \u001b[38;5;28;01mtry\u001b[39;00m:\n\u001b[0;32m--> 696\u001b[0m \topenResult \u001b[38;5;241m=\u001b[39m \u001b[43mreader\u001b[49m\u001b[38;5;241;43m.\u001b[39;49m\u001b[43mopen\u001b[49m\u001b[43m(\u001b[49m\u001b[43mfilename\u001b[49m\u001b[43m)\u001b[49m\n\u001b[1;32m    697\u001b[0m \t\u001b[38;5;28;01mif\u001b[39;00m openResult \u001b[38;5;129;01mis\u001b[39;00m \u001b[38;5;129;01mnot\u001b[39;00m \u001b[38;5;28;01mNone\u001b[39;00m:\n\u001b[1;32m    698\u001b[0m \t\t\u001b[38;5;28mself\u001b[39m\u001b[38;5;241m.\u001b[39mprogressInit(\u001b[38;5;124m\"\u001b[39m\u001b[38;5;124mReading metadata\u001b[39m\u001b[38;5;124m\"\u001b[39m)\n",
      "File \u001b[0;32m~/miniforge3/envs/py312/lib/python3.12/site-packages/pyglossary/plugins/babylon_bgl/reader.py:396\u001b[0m, in \u001b[0;36mReader.open\u001b[0;34m(self, filename)\u001b[0m\n\u001b[1;32m    393\u001b[0m \u001b[38;5;28mself\u001b[39m\u001b[38;5;241m.\u001b[39m_filename \u001b[38;5;241m=\u001b[39m filename\n\u001b[1;32m    395\u001b[0m \u001b[38;5;28;01mif\u001b[39;00m \u001b[38;5;129;01mnot\u001b[39;00m \u001b[38;5;28mself\u001b[39m\u001b[38;5;241m.\u001b[39mopenGzip():\n\u001b[0;32m--> 396\u001b[0m \t\u001b[38;5;28;01mraise\u001b[39;00m \u001b[38;5;167;01mOSError\u001b[39;00m(\u001b[38;5;124m\"\u001b[39m\u001b[38;5;124mBGL: failed to read gzip header\u001b[39m\u001b[38;5;124m\"\u001b[39m)\n\u001b[1;32m    398\u001b[0m \u001b[38;5;28mself\u001b[39m\u001b[38;5;241m.\u001b[39mreadInfo()\n\u001b[1;32m    399\u001b[0m \u001b[38;5;28mself\u001b[39m\u001b[38;5;241m.\u001b[39msetGlossaryInfo()\n",
      "\u001b[0;31mOSError\u001b[0m: BGL: failed to read gzip header"
     ]
    }
   ],
   "source": [
    "glos = Glossary()\n",
    "\n",
    "convertArgs = ConvertArgs(\n",
    "    inputFilename=\"../data/tulasi_shabda_kosha.babylon\",\n",
    "    outputFilename=\"../data/tulasi_shabda_kosha.json\",\n",
    "    inputFormat=\"BabylonBgl\",\n",
    "    # although it can detect format for *.txt, you can still pass outputFormat\n",
    "    outputFormat=\"Json\",\n",
    "    # you can pass readOptions or writeOptions as a dict\n",
    "    # writeOptions={\"encoding\": \"utf-8\"},\n",
    ")\n",
    "\n",
    "glos.convert(convertArgs)"
   ]
  }
 ],
 "metadata": {
  "kernelspec": {
   "display_name": "py312",
   "language": "python",
   "name": "python3"
  },
  "language_info": {
   "codemirror_mode": {
    "name": "ipython",
    "version": 3
   },
   "file_extension": ".py",
   "mimetype": "text/x-python",
   "name": "python",
   "nbconvert_exporter": "python",
   "pygments_lexer": "ipython3",
   "version": "3.12.8"
  }
 },
 "nbformat": 4,
 "nbformat_minor": 2
}
