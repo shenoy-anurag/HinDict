{
 "cells": [
  {
   "cell_type": "code",
   "execution_count": 1,
   "metadata": {},
   "outputs": [
    {
     "name": "stdout",
     "output_type": "stream",
     "text": [
      "Requirement already satisfied: indic-transliteration in /Users/anurags/miniforge3/envs/llmDictPy312/lib/python3.12/site-packages (2.3.68)\n",
      "Requirement already satisfied: backports.functools-lru-cache in /Users/anurags/miniforge3/envs/llmDictPy312/lib/python3.12/site-packages (from indic-transliteration) (2.0.0)\n",
      "Requirement already satisfied: regex in /Users/anurags/miniforge3/envs/llmDictPy312/lib/python3.12/site-packages (from indic-transliteration) (2024.11.6)\n",
      "Requirement already satisfied: typer in /Users/anurags/miniforge3/envs/llmDictPy312/lib/python3.12/site-packages (from indic-transliteration) (0.15.1)\n",
      "Requirement already satisfied: toml in /Users/anurags/miniforge3/envs/llmDictPy312/lib/python3.12/site-packages (from indic-transliteration) (0.10.2)\n",
      "Requirement already satisfied: roman in /Users/anurags/miniforge3/envs/llmDictPy312/lib/python3.12/site-packages (from indic-transliteration) (4.2)\n",
      "Requirement already satisfied: click>=8.0.0 in /Users/anurags/miniforge3/envs/llmDictPy312/lib/python3.12/site-packages (from typer->indic-transliteration) (8.1.8)\n",
      "Requirement already satisfied: typing-extensions>=3.7.4.3 in /Users/anurags/miniforge3/envs/llmDictPy312/lib/python3.12/site-packages (from typer->indic-transliteration) (4.12.2)\n",
      "Requirement already satisfied: shellingham>=1.3.0 in /Users/anurags/miniforge3/envs/llmDictPy312/lib/python3.12/site-packages (from typer->indic-transliteration) (1.5.4)\n",
      "Requirement already satisfied: rich>=10.11.0 in /Users/anurags/miniforge3/envs/llmDictPy312/lib/python3.12/site-packages (from typer->indic-transliteration) (13.9.4)\n",
      "Requirement already satisfied: markdown-it-py>=2.2.0 in /Users/anurags/miniforge3/envs/llmDictPy312/lib/python3.12/site-packages (from rich>=10.11.0->typer->indic-transliteration) (3.0.0)\n",
      "Requirement already satisfied: pygments<3.0.0,>=2.13.0 in /Users/anurags/miniforge3/envs/llmDictPy312/lib/python3.12/site-packages (from rich>=10.11.0->typer->indic-transliteration) (2.19.1)\n",
      "Requirement already satisfied: mdurl~=0.1 in /Users/anurags/miniforge3/envs/llmDictPy312/lib/python3.12/site-packages (from markdown-it-py>=2.2.0->rich>=10.11.0->typer->indic-transliteration) (0.1.2)\n",
      "Note: you may need to restart the kernel to use updated packages.\n"
     ]
    }
   ],
   "source": [
    "%pip install indic-transliteration"
   ]
  },
  {
   "cell_type": "code",
   "execution_count": 2,
   "metadata": {},
   "outputs": [],
   "source": [
    "from indic_transliteration.sanscript import transliterate, IAST, DEVANAGARI\n",
    "\n",
    "def romanized_to_devanagari(word):\n",
    "    \"\"\"\n",
    "    Converts a Romanized Hindi word into Devanagari.\n",
    "    :param word: Romanized Hindi word (string)\n",
    "    :return: Devanagari script equivalent (string)\n",
    "    \"\"\"\n",
    "    return transliterate(word, IAST, DEVANAGARI)"
   ]
  },
  {
   "cell_type": "code",
   "execution_count": 3,
   "metadata": {},
   "outputs": [
    {
     "name": "stdout",
     "output_type": "stream",
     "text": [
      "Romanized: namaste\n",
      "Devanagari: नमस्ते\n"
     ]
    }
   ],
   "source": [
    "romanized_word = \"namaste\"\n",
    "devanagari_word = romanized_to_devanagari(romanized_word)\n",
    "print(\"Romanized:\", romanized_word)\n",
    "print(\"Devanagari:\", devanagari_word)"
   ]
  },
  {
   "cell_type": "code",
   "execution_count": 4,
   "metadata": {},
   "outputs": [
    {
     "name": "stdout",
     "output_type": "stream",
     "text": [
      "Romanized: panjikrit\n",
      "Devanagari: पन्जिक्रित्\n"
     ]
    }
   ],
   "source": [
    "romanized_word = \"panjikrit\"\n",
    "devanagari_word = romanized_to_devanagari(romanized_word)\n",
    "print(\"Romanized:\", romanized_word)\n",
    "print(\"Devanagari:\", devanagari_word)"
   ]
  },
  {
   "cell_type": "code",
   "execution_count": 9,
   "metadata": {},
   "outputs": [
    {
     "name": "stdout",
     "output_type": "stream",
     "text": [
      "Romanized: durvyavahāra\n",
      "Devanagari: दुर्व्यवहार\n"
     ]
    }
   ],
   "source": [
    "romanized_word = \"durvyavahāra\"\n",
    "devanagari_word = romanized_to_devanagari(romanized_word)\n",
    "print(\"Romanized:\", romanized_word)\n",
    "print(\"Devanagari:\", devanagari_word)"
   ]
  }
 ],
 "metadata": {
  "kernelspec": {
   "display_name": "llmDictPy312",
   "language": "python",
   "name": "python3"
  },
  "language_info": {
   "codemirror_mode": {
    "name": "ipython",
    "version": 3
   },
   "file_extension": ".py",
   "mimetype": "text/x-python",
   "name": "python",
   "nbconvert_exporter": "python",
   "pygments_lexer": "ipython3",
   "version": "3.12.8"
  }
 },
 "nbformat": 4,
 "nbformat_minor": 2
}
