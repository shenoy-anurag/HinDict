{
 "cells": [
  {
   "cell_type": "code",
   "execution_count": 207,
   "metadata": {},
   "outputs": [],
   "source": [
    "import pandas as pd"
   ]
  },
  {
   "cell_type": "code",
   "execution_count": 208,
   "metadata": {},
   "outputs": [],
   "source": [
    "df = pd.read_csv('../data/eng-hin/eng-hin-tabfile.txt', sep='\\t')"
   ]
  },
  {
   "cell_type": "code",
   "execution_count": 209,
   "metadata": {},
   "outputs": [
    {
     "data": {
      "text/html": [
       "<div>\n",
       "<style scoped>\n",
       "    .dataframe tbody tr th:only-of-type {\n",
       "        vertical-align: middle;\n",
       "    }\n",
       "\n",
       "    .dataframe tbody tr th {\n",
       "        vertical-align: top;\n",
       "    }\n",
       "\n",
       "    .dataframe thead th {\n",
       "        text-align: right;\n",
       "    }\n",
       "</style>\n",
       "<table border=\"1\" class=\"dataframe\">\n",
       "  <thead>\n",
       "    <tr style=\"text-align: right;\">\n",
       "      <th></th>\n",
       "      <th>##name</th>\n",
       "      <th>eng-hin.index</th>\n",
       "    </tr>\n",
       "  </thead>\n",
       "  <tbody>\n",
       "    <tr>\n",
       "      <th>0</th>\n",
       "      <td>##sourceLang</td>\n",
       "      <td>English</td>\n",
       "    </tr>\n",
       "    <tr>\n",
       "      <th>1</th>\n",
       "      <td>##targetLang</td>\n",
       "      <td>Hindi</td>\n",
       "    </tr>\n",
       "    <tr>\n",
       "      <th>2</th>\n",
       "      <td>00databasealphabet</td>\n",
       "      <td>12abcdefghijklmnopqrstuvwxyz&lt;br /&gt;</td>\n",
       "    </tr>\n",
       "    <tr>\n",
       "      <th>3</th>\n",
       "      <td>00databasedictfmt1121</td>\n",
       "      <td>00-database-dictfmt-1.12.1&lt;br /&gt;</td>\n",
       "    </tr>\n",
       "    <tr>\n",
       "      <th>4</th>\n",
       "      <td>00databaseinfo</td>\n",
       "      <td>English-Hindi FreeDict Dictionary&lt;br /&gt;&lt;br /&gt;M...</td>\n",
       "    </tr>\n",
       "    <tr>\n",
       "      <th>5</th>\n",
       "      <td>00databaseshort</td>\n",
       "      <td>English-Hindi FreeDict Dictionary ver. 1.6&lt;br /&gt;</td>\n",
       "    </tr>\n",
       "    <tr>\n",
       "      <th>6</th>\n",
       "      <td>00databaseurl</td>\n",
       "      <td>unknown&lt;br /&gt;</td>\n",
       "    </tr>\n",
       "    <tr>\n",
       "      <th>7</th>\n",
       "      <td>00databaseutf8</td>\n",
       "      <td>&lt;br /&gt;</td>\n",
       "    </tr>\n",
       "    <tr>\n",
       "      <th>8</th>\n",
       "      <td>a</td>\n",
       "      <td>a /ˈeɪ/ &lt;Det&gt;&lt;br /&gt;1. एक&lt;br /&gt;      \"I bought ...</td>\n",
       "    </tr>\n",
       "    <tr>\n",
       "      <th>9</th>\n",
       "      <td>a feather in ones cap</td>\n",
       "      <td>A feather in one's cap /ɐ fˈɛðəɹ ɪn wˈɒnz kˈap...</td>\n",
       "    </tr>\n",
       "  </tbody>\n",
       "</table>\n",
       "</div>"
      ],
      "text/plain": [
       "                  ##name                                      eng-hin.index\n",
       "0           ##sourceLang                                            English\n",
       "1           ##targetLang                                              Hindi\n",
       "2     00databasealphabet                 12abcdefghijklmnopqrstuvwxyz<br />\n",
       "3  00databasedictfmt1121                   00-database-dictfmt-1.12.1<br />\n",
       "4         00databaseinfo  English-Hindi FreeDict Dictionary<br /><br />M...\n",
       "5        00databaseshort   English-Hindi FreeDict Dictionary ver. 1.6<br />\n",
       "6          00databaseurl                                      unknown<br />\n",
       "7         00databaseutf8                                             <br />\n",
       "8                      a  a /ˈeɪ/ <Det><br />1. एक<br />      \"I bought ...\n",
       "9  a feather in ones cap  A feather in one's cap /ɐ fˈɛðəɹ ɪn wˈɒnz kˈap..."
      ]
     },
     "execution_count": 209,
     "metadata": {},
     "output_type": "execute_result"
    }
   ],
   "source": [
    "df.head(10)"
   ]
  },
  {
   "cell_type": "code",
   "execution_count": 210,
   "metadata": {},
   "outputs": [
    {
     "name": "stdout",
     "output_type": "stream",
     "text": [
      "22871\n"
     ]
    },
    {
     "data": {
      "text/html": [
       "<div>\n",
       "<style scoped>\n",
       "    .dataframe tbody tr th:only-of-type {\n",
       "        vertical-align: middle;\n",
       "    }\n",
       "\n",
       "    .dataframe tbody tr th {\n",
       "        vertical-align: top;\n",
       "    }\n",
       "\n",
       "    .dataframe thead th {\n",
       "        text-align: right;\n",
       "    }\n",
       "</style>\n",
       "<table border=\"1\" class=\"dataframe\">\n",
       "  <thead>\n",
       "    <tr style=\"text-align: right;\">\n",
       "      <th></th>\n",
       "      <th>##name</th>\n",
       "      <th>eng-hin.index</th>\n",
       "    </tr>\n",
       "  </thead>\n",
       "  <tbody>\n",
       "    <tr>\n",
       "      <th>8</th>\n",
       "      <td>a</td>\n",
       "      <td>a /ˈeɪ/ &lt;Det&gt;&lt;br /&gt;1. एक&lt;br /&gt;      \"I bought ...</td>\n",
       "    </tr>\n",
       "    <tr>\n",
       "      <th>9</th>\n",
       "      <td>a feather in ones cap</td>\n",
       "      <td>A feather in one's cap /ɐ fˈɛðəɹ ɪn wˈɒnz kˈap...</td>\n",
       "    </tr>\n",
       "    <tr>\n",
       "      <th>10</th>\n",
       "      <td>a few</td>\n",
       "      <td>a few /ɐ fjˈuː/ &lt;Det&gt;&lt;br /&gt;1. कुछ&lt;br /&gt;      \"...</td>\n",
       "    </tr>\n",
       "    <tr>\n",
       "      <th>11</th>\n",
       "      <td>a fight to the finish</td>\n",
       "      <td>a fight to the finish /ɐ fˈaɪt tə ðə fˈɪnɪʃ/ &lt;...</td>\n",
       "    </tr>\n",
       "    <tr>\n",
       "      <th>12</th>\n",
       "      <td>a fighting chance</td>\n",
       "      <td>A fighting chance /ɐ fˈaɪtɪŋ tʃˈans/ &lt;IDM&gt;&lt;br ...</td>\n",
       "    </tr>\n",
       "  </tbody>\n",
       "</table>\n",
       "</div>"
      ],
      "text/plain": [
       "                   ##name                                      eng-hin.index\n",
       "8                       a  a /ˈeɪ/ <Det><br />1. एक<br />      \"I bought ...\n",
       "9   a feather in ones cap  A feather in one's cap /ɐ fˈɛðəɹ ɪn wˈɒnz kˈap...\n",
       "10                  a few  a few /ɐ fjˈuː/ <Det><br />1. कुछ<br />      \"...\n",
       "11  a fight to the finish  a fight to the finish /ɐ fˈaɪt tə ðə fˈɪnɪʃ/ <...\n",
       "12      a fighting chance  A fighting chance /ɐ fˈaɪtɪŋ tʃˈans/ <IDM><br ..."
      ]
     },
     "metadata": {},
     "output_type": "display_data"
    }
   ],
   "source": [
    "dict_df = df[8:].copy()\n",
    "print(len(dict_df))\n",
    "display(dict_df.head())"
   ]
  },
  {
   "cell_type": "code",
   "execution_count": 211,
   "metadata": {},
   "outputs": [],
   "source": [
    "dict_df.rename({'##name': 'word/phrase', 'eng-hin.index': 'definition'}, axis=1, inplace=True)"
   ]
  },
  {
   "cell_type": "code",
   "execution_count": 212,
   "metadata": {},
   "outputs": [
    {
     "data": {
      "text/html": [
       "<div>\n",
       "<style scoped>\n",
       "    .dataframe tbody tr th:only-of-type {\n",
       "        vertical-align: middle;\n",
       "    }\n",
       "\n",
       "    .dataframe tbody tr th {\n",
       "        vertical-align: top;\n",
       "    }\n",
       "\n",
       "    .dataframe thead th {\n",
       "        text-align: right;\n",
       "    }\n",
       "</style>\n",
       "<table border=\"1\" class=\"dataframe\">\n",
       "  <thead>\n",
       "    <tr style=\"text-align: right;\">\n",
       "      <th></th>\n",
       "      <th>word/phrase</th>\n",
       "      <th>definition</th>\n",
       "    </tr>\n",
       "  </thead>\n",
       "  <tbody>\n",
       "    <tr>\n",
       "      <th>8</th>\n",
       "      <td>a</td>\n",
       "      <td>a /ˈeɪ/ &lt;Det&gt;&lt;br /&gt;1. एक&lt;br /&gt;      \"I bought ...</td>\n",
       "    </tr>\n",
       "    <tr>\n",
       "      <th>9</th>\n",
       "      <td>a feather in ones cap</td>\n",
       "      <td>A feather in one's cap /ɐ fˈɛðəɹ ɪn wˈɒnz kˈap...</td>\n",
       "    </tr>\n",
       "    <tr>\n",
       "      <th>10</th>\n",
       "      <td>a few</td>\n",
       "      <td>a few /ɐ fjˈuː/ &lt;Det&gt;&lt;br /&gt;1. कुछ&lt;br /&gt;      \"...</td>\n",
       "    </tr>\n",
       "    <tr>\n",
       "      <th>11</th>\n",
       "      <td>a fight to the finish</td>\n",
       "      <td>a fight to the finish /ɐ fˈaɪt tə ðə fˈɪnɪʃ/ &lt;...</td>\n",
       "    </tr>\n",
       "    <tr>\n",
       "      <th>12</th>\n",
       "      <td>a fighting chance</td>\n",
       "      <td>A fighting chance /ɐ fˈaɪtɪŋ tʃˈans/ &lt;IDM&gt;&lt;br ...</td>\n",
       "    </tr>\n",
       "  </tbody>\n",
       "</table>\n",
       "</div>"
      ],
      "text/plain": [
       "              word/phrase                                         definition\n",
       "8                       a  a /ˈeɪ/ <Det><br />1. एक<br />      \"I bought ...\n",
       "9   a feather in ones cap  A feather in one's cap /ɐ fˈɛðəɹ ɪn wˈɒnz kˈap...\n",
       "10                  a few  a few /ɐ fjˈuː/ <Det><br />1. कुछ<br />      \"...\n",
       "11  a fight to the finish  a fight to the finish /ɐ fˈaɪt tə ðə fˈɪnɪʃ/ <...\n",
       "12      a fighting chance  A fighting chance /ɐ fˈaɪtɪŋ tʃˈans/ <IDM><br ..."
      ]
     },
     "execution_count": 212,
     "metadata": {},
     "output_type": "execute_result"
    }
   ],
   "source": [
    "dict_df.head()"
   ]
  },
  {
   "cell_type": "code",
   "execution_count": 213,
   "metadata": {},
   "outputs": [
    {
     "name": "stdout",
     "output_type": "stream",
     "text": [
      "8 a a /ˈeɪ/ <Det><br />1. एक<br />      \"I bought a pen.\"<br />\n",
      "9 a feather in ones cap A feather in one's cap /ɐ fˈɛðəɹ ɪn wˈɒnz kˈap/ <IDM><br />1. कठिन~कार्य~को~करना<br />      \"Getting this award is like a feather in his cap.\"<br />\n",
      "10 a few a few /ɐ fjˈuː/ <Det><br />1. कुछ<br />      \"Only a few students of this class can expect to get first division in their examination results.\"<br />2.  In the party only a few persons were known to me<br /><br /><br /><hr><br /><br />a few /ɐ fjˈuː/ <Adv><br />1. कुछ<br />      \"Please give me a few more details of this project.\"<br />\n",
      "11 a fight to the finish a fight to the finish /ɐ fˈaɪt tə ðə fˈɪnɪʃ/ <IDM><br />1. निर्णायक~लड़ाई<br />      \"It was a fight to finish between the two chess players. \"<br />\n",
      "12 a fighting chance A fighting chance /ɐ fˈaɪtɪŋ tʃˈans/ <IDM><br />1. कार्य~की~सफलता~की~थोड़ी~आशा<br />      \"This leader has only a fighting chance of success in the election.\"<br />\n",
      "13 a fly on the wall a fly on the wall /ɐ flˈaɪ ɒnðə wˈɔːl/ <IDM><br />1. बिना महत्व का व्यक्ति<br />      \"He is like a fly on the wall in the affairs of the party.\"<br />\n",
      "14 a la a la /ˈala/ <Prep><br />1. की शैली में<br />      \"So far the world hasn't had another hockey player a la Dhyanchand .\"<br />\n",
      "15 a la carte a la carte /ˌala kˈɑːt/ <Adj><br />1. व्यंजन सूची से<br />      \"The Kamath hotel has only an a la carte menu.\"<br />\n",
      "16 a la mode a la mode /ˌala mˈəʊd/ <Adj><br />1. फैशन प्रिय<br />      \"Some college girls are a la mode.\"<br />\n",
      "17 a level A level /ɐ lˈɛvəl/ <N><br />1. उच्च स्तरीय<br />      \"She will take the A level exams this year.\"<br />\n",
      "a level A level /ɐ lˈɛvəl/ <N><br />1. उच्च स्तरीय<br />      \"She will take the A level exams this year.\"<br />\n"
     ]
    }
   ],
   "source": [
    "word = ''\n",
    "data = ''\n",
    "count = 1\n",
    "for row in dict_df.itertuples():\n",
    "    index = row[0]\n",
    "    word = row[1]\n",
    "    data = row[2]\n",
    "    print(index, word, data)\n",
    "    if count % 10 == 0:\n",
    "        break\n",
    "    count += 1\n",
    "print(word, data)"
   ]
  },
  {
   "cell_type": "code",
   "execution_count": 214,
   "metadata": {},
   "outputs": [
    {
     "data": {
      "text/plain": [
       "word/phrase                                                abuse\n",
       "definition     abuse /ɐbjˈuːs/ <N><br />1. दुर्व्यवहार<br /> ...\n",
       "Name: 118, dtype: object"
      ]
     },
     "execution_count": 214,
     "metadata": {},
     "output_type": "execute_result"
    }
   ],
   "source": [
    "row = dict_df.iloc[110]\n",
    "row"
   ]
  },
  {
   "cell_type": "code",
   "execution_count": 215,
   "metadata": {},
   "outputs": [],
   "source": [
    "import json\n",
    "import re\n",
    "\n",
    "\n",
    "def parse_definition(definition_text):\n",
    "    # Split input by parts of speech based on <N> and <VT> markers\n",
    "    # parts = re.split(r'<([NVIT]+)>', definition_text)\n",
    "    parts = re.split(r'<([NVVIVTAdjAdvPronPrepConjDetNumInterjIDMPhrvAbbrSlExclAuxPlArt]+)>', definition_text)\n",
    "\n",
    "    # Extract the word and pronunciation\n",
    "    word_section = parts[0].strip()\n",
    "    # pattern_word_section = r\"^([\\w\\s]+)\\s/([^/]+)/\"\n",
    "    # pattern_word_section = r\"^([\\w\\s]+)\\s/([ˈˌaæbddʒefghijklmnŋoɔprstt̬tʃuvwxɐɑɒɑ̃ɚəɜɝɛɪʃʊʌʒθð\\s]+)/\"\n",
    "    # pattern_word_section = r\"([\\w\\d\\s'.]+)\\/([aäɑɒæbḇβcčɔɕçdḏḍðeəɚɛɝfgḡhʰḥḫẖiɪỉɨjʲǰkḳḵlḷɬɫmnŋṇɲɴoŏɸθpp̅þqrɹɾʀʁṛsšśṣʃtṭṯʨtʂuʊŭüvʌɣwʍxχyʸʎzẓžʒ’‘ʔʕ\\s]+)\\/\"\n",
    "    pattern_word_section = r\"([\\w\\d\\s'.\\-()~]+)\\/(.+)\\/\"\n",
    "    word, pronunciation = re.match(\n",
    "        pattern_word_section, word_section).groups()\n",
    "\n",
    "    word = word.strip()\n",
    "\n",
    "    # Initialize result structure\n",
    "    result = {\n",
    "        \"word\": word,\n",
    "        \"pronunciation\": pronunciation,\n",
    "        \"entries\": []\n",
    "    }\n",
    "\n",
    "    # Process each POS section\n",
    "    for i in range(1, len(parts) - 1, 2):\n",
    "        part_of_speech = parts[i].strip()\n",
    "        raw_definitions = parts[i + 1].strip()\n",
    "\n",
    "        # Map POS markers to human-readable forms\n",
    "        pos_map = {\n",
    "            \"N\": \"Noun\",\n",
    "            \"V\": \"Verb\",\n",
    "            \"VI\": \"Verb (Intransitive)\",\n",
    "            \"VT\": \"Verb (Transitive)\",\n",
    "            \"Adj\": \"Adjective\",\n",
    "            \"Adv\": \"Adverb\",\n",
    "            \"Pron\": \"Pronoun\",\n",
    "            \"Prep\": \"Preposition\",\n",
    "            \"Conj\": \"Conjunction\",\n",
    "            \"Det\": \"Determiner\",\n",
    "            \"Num\": \"Numeral\",\n",
    "            \"Interj\": \"Interjection\",\n",
    "            \"IDM\": \"Idiom\",\n",
    "            \"Phrv\": \"Phrasal Verb\",\n",
    "            \"Abbr\": \"Abbreviation\",\n",
    "            \"Sl\": \"Slang\",\n",
    "            \"Excl\": \"Exclamation\",\n",
    "            \"Aux\": \"Auxiliary Verb\",\n",
    "            \"Pl\": \"Plural\",\n",
    "            \"Art\": \"Article\"\n",
    "        }\n",
    "        pos_name = pos_map.get(part_of_speech, part_of_speech)\n",
    "\n",
    "        # Parse definitions\n",
    "        definitions = []\n",
    "        for entry in re.split(r'\\d+\\.\\s', raw_definitions)[1:]:\n",
    "            match = re.match(r'([^<]+)<br\\s*/>\\s*\"([^\"]+)\"', entry, re.DOTALL)\n",
    "            if match:\n",
    "                hindi, example = match.groups()\n",
    "                definitions.append({\n",
    "                    \"hindi\": hindi.strip().replace('~', ' '),\n",
    "                    \"example\": example.strip()\n",
    "                })\n",
    "\n",
    "        # Add parsed data to the entries\n",
    "        result[\"entries\"].append({\n",
    "            \"part_of_speech\": pos_name,\n",
    "            \"definitions\": definitions\n",
    "        })\n",
    "\n",
    "    return result"
   ]
  },
  {
   "cell_type": "code",
   "execution_count": 216,
   "metadata": {},
   "outputs": [
    {
     "name": "stdout",
     "output_type": "stream",
     "text": [
      "A level /ɐ lˈɛvəl/ <N><br />1. उच्च स्तरीय<br />      \"She will take the A level exams this year.\"<br />\n",
      "{'word': 'A level', 'pronunciation': 'ɐ lˈɛvəl', 'entries': [{'part_of_speech': 'Noun', 'definitions': [{'hindi': 'उच्च स्तरीय', 'example': 'She will take the A level exams this year.'}]}]}\n"
     ]
    }
   ],
   "source": [
    "print(data)\n",
    "parsed_data = parse_definition(data)\n",
    "# print(row.definition)\n",
    "# parsed_data = parse_definition(row.definition)\n",
    "print(parsed_data)"
   ]
  },
  {
   "cell_type": "code",
   "execution_count": 217,
   "metadata": {},
   "outputs": [
    {
     "data": {
      "text/plain": [
       "word/phrase                                              abysmal\n",
       "definition     abysmal /ɐbˈɪsməl/ <Adj><br />1. बहुत~खराब<br ...\n",
       "Name: 121, dtype: object"
      ]
     },
     "execution_count": 217,
     "metadata": {},
     "output_type": "execute_result"
    }
   ],
   "source": [
    "row = dict_df.iloc[113]\n",
    "row"
   ]
  },
  {
   "cell_type": "code",
   "execution_count": 218,
   "metadata": {},
   "outputs": [
    {
     "name": "stdout",
     "output_type": "stream",
     "text": [
      "{'word': 'abysmal', 'pronunciation': 'ɐbˈɪsməl', 'entries': [{'part_of_speech': 'Adjective', 'definitions': [{'hindi': 'बहुत खराब', 'example': 'His habits are abysmal.'}]}]}\n"
     ]
    }
   ],
   "source": [
    "parsed_data = parse_definition(row.definition)\n",
    "print(parsed_data)"
   ]
  },
  {
   "cell_type": "code",
   "execution_count": 219,
   "metadata": {},
   "outputs": [
    {
     "name": "stdout",
     "output_type": "stream",
     "text": [
      "flag[stone] /flˈaɡ stˈəʊn/\n",
      "keep in with <a href=\"bword://infl\">infl</a> /kˈiːp ɪn wɪð ˈɪnfəl/\n",
      "not care\\\\give a fig /nˌɒt kˈeə bˈakslaʃ ɡˈɪv ɐ fˈɪɡ/\n",
      "pell-?????? /pˈɛl/\n",
      "raise (US=rise) /ɹˈeɪz jˌuːˈɛs ˈiːkwəlz ɹˈaɪz/\n",
      "tu-whit,tu-whoo /tˈuːwˈɪt tˈuːwˈuː/\n",
      "wellington[boot] /wˈɛlɪŋtən bˈuːt/\n",
      "22864\n",
      "7\n"
     ]
    }
   ],
   "source": [
    "all_words = {}\n",
    "\n",
    "word = ''\n",
    "unparsed_words = []\n",
    "for row in dict_df.itertuples():\n",
    "    index = row[0]\n",
    "    word = row[1]\n",
    "    data = row[2]\n",
    "    try:\n",
    "        parsed_data = parse_definition(data)\n",
    "        all_words[word] = parsed_data\n",
    "    except Exception as e:\n",
    "        # print(e)\n",
    "        parts = re.split(r'<([NVVIVTAdjAdvPronPrepConjDetNumInterjIDMPhrvAbbrSlExclAuxPlArt]+)>', data)\n",
    "        word_section = parts[0].strip()\n",
    "        print(word_section)\n",
    "        unparsed_words.append(word)\n",
    "\n",
    "with open('../data/eng-hin/eng-hin-parsed.json', 'w') as f:\n",
    "    f.write(json.dumps(all_words))\n",
    "    print(len(list(all_words.keys())))\n",
    "\n",
    "with open('../data/eng-hin/eng-hin-unparsed.json', 'w') as f:\n",
    "    f.write(json.dumps(unparsed_words))\n",
    "    print(len(unparsed_words))"
   ]
  },
  {
   "cell_type": "code",
   "execution_count": 220,
   "metadata": {},
   "outputs": [],
   "source": [
    "def reverse_definition(definition):\n",
    "    pass"
   ]
  }
 ],
 "metadata": {
  "kernelspec": {
   "display_name": "llmDictPy312",
   "language": "python",
   "name": "python3"
  },
  "language_info": {
   "codemirror_mode": {
    "name": "ipython",
    "version": 3
   },
   "file_extension": ".py",
   "mimetype": "text/x-python",
   "name": "python",
   "nbconvert_exporter": "python",
   "pygments_lexer": "ipython3",
   "version": "3.12.8"
  }
 },
 "nbformat": 4,
 "nbformat_minor": 2
}
